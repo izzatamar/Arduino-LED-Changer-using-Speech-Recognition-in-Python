{
 "cells": [
  {
   "cell_type": "code",
   "execution_count": null,
   "metadata": {
    "collapsed": false
   },
   "outputs": [],
   "source": [
    "import speech_recognition as sr\n",
    "import serial\n",
    "import time\n",
    "import pyttsx3\n",
    "\n",
    "engine = pyttsx3.init()\n",
    "voices = engine.getProperty('voices')\n",
    "engine.setProperty('voice', voices[1].id)\n",
    "engine.say(\"Good afternoon sir\");\n",
    "engine.runAndWait()\n",
    "#engine.say(\"I will speak this text\");\n",
    "#engine.runAndWait() ;\n",
    "\n",
    "arduino = serial.Serial('COM4',9600, timeout= 1)\n",
    "r = sr.Recognizer()\n",
    "\n",
    "def onOffFunction(text):\n",
    "    #command = input('Type something..: (on/off/bye)')\n",
    "    \n",
    "    if text == 'red':\n",
    "        print('The RED LED is ON')\n",
    "        engine.say(\"Turning on the Red L E D\");\n",
    "        engine.runAndWait()\n",
    "        #time.sleep(1)\n",
    "        arduino.write(str.encode('R'))\n",
    "         \n",
    "\n",
    "    elif text == 'yellow':\n",
    "        print('The YELLOW LED is ON')\n",
    "        engine.say(\"Turning on the yellow L E D\");\n",
    "        engine.runAndWait()\n",
    "        #time.sleep(1)\n",
    "        arduino.write(str.encode('Y'))\n",
    "     \n",
    "\n",
    "    elif text == 'Green':\n",
    "        print('The GREEN LED is ON')\n",
    "        engine.say(\"Turning on the Green L E D\");\n",
    "        engine.runAndWait()\n",
    "        #time.sleep(1)\n",
    "        arduino.write(str.encode('G'))\n",
    "        \n",
    "    else:\n",
    "        print('type something else')\n",
    "        \n",
    "\n",
    "def activateMicrophone():\n",
    "    \n",
    "    with sr.Microphone() as source:\n",
    "        print('Speak Anything: ')\n",
    "        \n",
    "        audio = r.listen(source)\n",
    "\n",
    "        try:\n",
    "            text = r.recognize_google(audio)\n",
    "            print('You said : {}'.format(text))\n",
    "            onOffFunction(text)\n",
    "            #time.sleep(1)\n",
    "        except:\n",
    "            print('Sorry could not recognize your voice')\n",
    "            #time.sleep(1)\n",
    "\n",
    "while True:\n",
    "    with sr.Microphone() as src:\n",
    "        print('Say \"Arduino\" to activate')\n",
    "        \n",
    "        print('waiting for your command')\n",
    "        a = r.listen(src)\n",
    "        \n",
    "        \n",
    "        try:\n",
    "            txt = r.recognize_google(a)\n",
    "            \n",
    "            print('Arduino activated')\n",
    "            engine.say(\"Yes, sir?\");\n",
    "            engine.runAndWait()\n",
    "            activateMicrophone()\n",
    "            \n",
    "        except:\n",
    "            print('Speak again')"
   ]
  },
  {
   "cell_type": "code",
   "execution_count": null,
   "metadata": {
    "collapsed": true
   },
   "outputs": [],
   "source": []
  },
  {
   "cell_type": "code",
   "execution_count": null,
   "metadata": {
    "collapsed": true
   },
   "outputs": [],
   "source": []
  }
 ],
 "metadata": {
  "kernelspec": {
   "display_name": "Python 3",
   "language": "python",
   "name": "python3"
  },
  "language_info": {
   "codemirror_mode": {
    "name": "ipython",
    "version": 3
   },
   "file_extension": ".py",
   "mimetype": "text/x-python",
   "name": "python",
   "nbconvert_exporter": "python",
   "pygments_lexer": "ipython3",
   "version": "3.6.6"
  }
 },
 "nbformat": 4,
 "nbformat_minor": 2
}
